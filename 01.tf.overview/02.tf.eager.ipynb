{
 "cells": [
  {
   "cell_type": "markdown",
   "metadata": {},
   "source": [
    "# TensorFlow Eager Execution"
   ]
  },
  {
   "cell_type": "code",
   "execution_count": 1,
   "metadata": {},
   "outputs": [
    {
     "name": "stdout",
     "output_type": "stream",
     "text": [
      "TensorFlow version: 1.11.0\n",
      "Eager execution: True\n"
     ]
    }
   ],
   "source": [
    "from __future__ import absolute_import\n",
    "from __future__ import division\n",
    "from __future__ import print_function\n",
    "\n",
    "import tensorflow as tf\n",
    "tf.enable_eager_execution()\n",
    "\n",
    "print(\"TensorFlow version: {}\".format(tf.VERSION))\n",
    "print(\"Eager execution: {}\".format(tf.executing_eagerly()))"
   ]
  },
  {
   "cell_type": "markdown",
   "metadata": {},
   "source": [
    "## Execution Style\n",
    "\n",
    "* [Eager execution](https://www.tensorflow.org/get_started/eager)\n",
    "  * 최근에 나온 방식\n",
    "  * 변수값을 바로 확인할 수 있음\n",
    "  * 마치 `numpy` 짜듯이 짤 수 있음\n",
    "  * 향후 **TF version 2.0에 기본** 이 될 예정\n",
    "* [Graph execution](https://www.tensorflow.org/get_started/get_started_for_beginners)\n",
    "  * TensorFlow 초창기 구현 방법\n",
    "  * 여전히 많이 이용하고 있음\n",
    "  * 속도면에서 아직 `eager`모드보다 우위에 있음\n",
    "  * **Graph 선언부분과 실행(Session)하는 부분이 분리** 되어 있음\n",
    "    * Phase1: Graph 선언\n",
    "    * Phase2: Session"
   ]
  },
  {
   "cell_type": "markdown",
   "metadata": {},
   "source": [
    "## Eager Execution examples\n",
    "\n",
    "* 여기 밑에 여러 example들을 직접 만들어서 pull request 해주시면 됩니다."
   ]
  },
  {
   "cell_type": "code",
   "execution_count": null,
   "metadata": {},
   "outputs": [],
   "source": []
  }
 ],
 "metadata": {
  "kernelspec": {
   "display_name": "Python 3",
   "language": "python",
   "name": "python3"
  },
  "language_info": {
   "codemirror_mode": {
    "name": "ipython",
    "version": 3
   },
   "file_extension": ".py",
   "mimetype": "text/x-python",
   "name": "python",
   "nbconvert_exporter": "python",
   "pygments_lexer": "ipython3",
   "version": "3.6.5"
  }
 },
 "nbformat": 4,
 "nbformat_minor": 2
}
